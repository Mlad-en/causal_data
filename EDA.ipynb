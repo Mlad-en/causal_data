{
 "cells": [
  {
   "cell_type": "code",
   "execution_count": 6,
   "id": "initial_id",
   "metadata": {
    "collapsed": true,
    "ExecuteTime": {
     "end_time": "2024-02-23T11:15:22.660981Z",
     "start_time": "2024-02-23T11:15:22.655259Z"
    }
   },
   "outputs": [],
   "source": [
    "import pandas as pd\n",
    "from pathlib import Path\n",
    "from os import path"
   ]
  },
  {
   "cell_type": "code",
   "outputs": [],
   "source": [
    "project = Path(\".\").resolve()\n",
    "data_dir = project / \"data\"\n",
    "close_college_path = data_dir / \"close_college.dta\""
   ],
   "metadata": {
    "collapsed": false,
    "ExecuteTime": {
     "end_time": "2024-02-23T11:15:04.978472Z",
     "start_time": "2024-02-23T11:15:04.972389Z"
    }
   },
   "id": "57ae04d71077fb2f",
   "execution_count": 4
  },
  {
   "cell_type": "code",
   "outputs": [],
   "source": [
    "assert path.exists(close_college_path)"
   ],
   "metadata": {
    "collapsed": false,
    "ExecuteTime": {
     "end_time": "2024-02-23T11:15:23.933836Z",
     "start_time": "2024-02-23T11:15:23.928728Z"
    }
   },
   "id": "3147699a1bfb54e1",
   "execution_count": 7
  },
  {
   "cell_type": "code",
   "outputs": [],
   "source": [
    "close_college = pd.read_stata(close_college_path)"
   ],
   "metadata": {
    "collapsed": false,
    "ExecuteTime": {
     "end_time": "2024-02-23T11:15:44.544523Z",
     "start_time": "2024-02-23T11:15:44.517687Z"
    }
   },
   "id": "a82969315c556db3",
   "execution_count": 8
  },
  {
   "cell_type": "code",
   "outputs": [
    {
     "data": {
      "text/plain": "   nearc4  educ  black  smsa  south  married  exper     lwage\n0       0     7      1     1      0      1.0     16  6.306275\n1       0    12      0     1      0      1.0      9  6.175867\n2       0    12      0     1      0      1.0     16  6.580639\n3       1    11      0     1      0      1.0     10  5.521461\n4       1    12      0     1      0      1.0     16  6.591674",
      "text/html": "<div>\n<style scoped>\n    .dataframe tbody tr th:only-of-type {\n        vertical-align: middle;\n    }\n\n    .dataframe tbody tr th {\n        vertical-align: top;\n    }\n\n    .dataframe thead th {\n        text-align: right;\n    }\n</style>\n<table border=\"1\" class=\"dataframe\">\n  <thead>\n    <tr style=\"text-align: right;\">\n      <th></th>\n      <th>nearc4</th>\n      <th>educ</th>\n      <th>black</th>\n      <th>smsa</th>\n      <th>south</th>\n      <th>married</th>\n      <th>exper</th>\n      <th>lwage</th>\n    </tr>\n  </thead>\n  <tbody>\n    <tr>\n      <th>0</th>\n      <td>0</td>\n      <td>7</td>\n      <td>1</td>\n      <td>1</td>\n      <td>0</td>\n      <td>1.0</td>\n      <td>16</td>\n      <td>6.306275</td>\n    </tr>\n    <tr>\n      <th>1</th>\n      <td>0</td>\n      <td>12</td>\n      <td>0</td>\n      <td>1</td>\n      <td>0</td>\n      <td>1.0</td>\n      <td>9</td>\n      <td>6.175867</td>\n    </tr>\n    <tr>\n      <th>2</th>\n      <td>0</td>\n      <td>12</td>\n      <td>0</td>\n      <td>1</td>\n      <td>0</td>\n      <td>1.0</td>\n      <td>16</td>\n      <td>6.580639</td>\n    </tr>\n    <tr>\n      <th>3</th>\n      <td>1</td>\n      <td>11</td>\n      <td>0</td>\n      <td>1</td>\n      <td>0</td>\n      <td>1.0</td>\n      <td>10</td>\n      <td>5.521461</td>\n    </tr>\n    <tr>\n      <th>4</th>\n      <td>1</td>\n      <td>12</td>\n      <td>0</td>\n      <td>1</td>\n      <td>0</td>\n      <td>1.0</td>\n      <td>16</td>\n      <td>6.591674</td>\n    </tr>\n  </tbody>\n</table>\n</div>"
     },
     "execution_count": 10,
     "metadata": {},
     "output_type": "execute_result"
    }
   ],
   "source": [
    "close_college.head()"
   ],
   "metadata": {
    "collapsed": false,
    "ExecuteTime": {
     "end_time": "2024-02-23T11:16:03.673982Z",
     "start_time": "2024-02-23T11:16:03.669098Z"
    }
   },
   "id": "cd86dab7499a15ba",
   "execution_count": 10
  },
  {
   "cell_type": "code",
   "outputs": [],
   "source": [
    "close_college"
   ],
   "metadata": {
    "collapsed": false
   },
   "id": "552d4ac2a4200fda"
  }
 ],
 "metadata": {
  "kernelspec": {
   "display_name": "Python 3",
   "language": "python",
   "name": "python3"
  },
  "language_info": {
   "codemirror_mode": {
    "name": "ipython",
    "version": 2
   },
   "file_extension": ".py",
   "mimetype": "text/x-python",
   "name": "python",
   "nbconvert_exporter": "python",
   "pygments_lexer": "ipython2",
   "version": "2.7.6"
  }
 },
 "nbformat": 4,
 "nbformat_minor": 5
}
